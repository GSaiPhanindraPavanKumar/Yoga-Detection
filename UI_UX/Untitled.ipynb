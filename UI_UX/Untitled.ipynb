{
 "cells": [
  {
   "cell_type": "code",
   "execution_count": 11,
   "id": "60ab443b",
   "metadata": {},
   "outputs": [
    {
     "name": "stderr",
     "output_type": "stream",
     "text": [
      "Using cache found in C:\\Users\\Gopala Krishna/.cache\\torch\\hub\\ultralytics_yolov5_master\n",
      "YOLOv5  2023-9-4 Python-3.9.7 torch-2.0.1+cpu CPU\n",
      "\n",
      "Fusing layers... \n",
      "YOLOv5s summary: 213 layers, 7225885 parameters, 0 gradients\n",
      "Adding AutoShape... \n",
      "Using cache found in C:\\Users\\Gopala Krishna/.cache\\torch\\hub\\ultralytics_yolov5_master\n",
      "YOLOv5  2023-9-4 Python-3.9.7 torch-2.0.1+cpu CPU\n",
      "\n",
      "Fusing layers... \n",
      "YOLOv5s summary: 213 layers, 7225885 parameters, 0 gradients\n",
      "Adding AutoShape... \n"
     ]
    },
    {
     "name": "stdout",
     "output_type": "stream",
     "text": [
      " * Serving Flask app \"__main__\" (lazy loading)\n",
      " * Environment: production\n",
      "\u001b[31m   WARNING: This is a development server. Do not use it in a production deployment.\u001b[0m\n",
      "\u001b[2m   Use a production WSGI server instead.\u001b[0m\n",
      " * Debug mode: on\n"
     ]
    },
    {
     "name": "stderr",
     "output_type": "stream",
     "text": [
      " * Restarting with watchdog (windowsapi)\n"
     ]
    },
    {
     "ename": "SystemExit",
     "evalue": "1",
     "output_type": "error",
     "traceback": [
      "An exception has occurred, use %tb to see the full traceback.\n",
      "\u001b[1;31mSystemExit\u001b[0m\u001b[1;31m:\u001b[0m 1\n"
     ]
    }
   ],
   "source": [
    "from flask import Flask, render_template, Response\n",
    "import cv2\n",
    "import numpy as np\n",
    "import torch\n",
    "\n",
    "app = Flask(__name__)\n",
    "\n",
    "# Load the YOLOv5 model and other necessary configurations\n",
    "model = torch.hub.load('ultralytics/yolov5', 'yolov5s')\n",
    "COCO_CLASSES = ['person']\n",
    "model1 = torch.hub.load('ultralytics/yolov5', 'yolov5s')\n",
    "\n",
    "# Load your Keras model and labels\n",
    "model1 = tf.keras.models.load_model(\"PhysioNet.h5\")\n",
    "labels = ['Butterfly', 'Calf raises', 'goddess', 'Hand raises', 'Knee pushups', 'Lowerback strecth', 'Shoulder press', 'shoulder stretch', 'situps', 'tree', 'wallChair', 'Warmup']\n",
    "\n",
    "# Video capture from the file\n",
    "cap = cv2.VideoCapture(0)\n",
    "\n",
    "\n",
    "def process_video():\n",
    "    while True:\n",
    "        ret, frame = cap.read()\n",
    "\n",
    "        if not ret:\n",
    "            break\n",
    "\n",
    "        image = cv2.resize(frame, (224, 224))\n",
    "        results = np.argmax(model1.predict(np.array([image])))\n",
    "\n",
    "        detections = model(frame)\n",
    "        person_detections = detections.pred[0][detections.pred[0][:, 5] == 0]\n",
    "\n",
    "        for det in person_detections:\n",
    "            x1, y1, x2, y2, conf, _ = det.tolist()\n",
    "            label = f'Score: {conf:.2f} - Exercise: {labels[results]}'\n",
    "            cv2.rectangle(frame, (int(x1), int(y1)), (int(x2), int(y2)), (0, 255, 0), 2)\n",
    "            cv2.putText(frame, label, (0, 30), cv2.FONT_HERSHEY_COMPLEX, 0.8, (0, 0, 255), 2)\n",
    "\n",
    "        ret, buffer = cv2.imencode('.jpg', frame)\n",
    "        if not ret:\n",
    "            break\n",
    "        frame_bytes = buffer.tobytes()\n",
    "        yield (b'--frame\\r\\n'\n",
    "               b'Content-Type: image/jpeg\\r\\n\\r\\n' + frame_bytes + b'\\r\\n')\n",
    "\n",
    "\n",
    "@app.route('/')\n",
    "def index():\n",
    "    return render_template('index.html')\n",
    "\n",
    "\n",
    "@app.route('/video_feed')\n",
    "def video_feed():\n",
    "    return Response(process_video(), mimetype='multipart/x-mixed-replace; boundary=frame')\n",
    "\n",
    "\n",
    "if __name__ == '__main__':\n",
    "    app.run(host='0.0.0.0', debug=True)\n"
   ]
  },
  {
   "cell_type": "code",
   "execution_count": null,
   "id": "845dbd1f",
   "metadata": {},
   "outputs": [],
   "source": []
  }
 ],
 "metadata": {
  "kernelspec": {
   "display_name": "Python 3 (ipykernel)",
   "language": "python",
   "name": "python3"
  },
  "language_info": {
   "codemirror_mode": {
    "name": "ipython",
    "version": 3
   },
   "file_extension": ".py",
   "mimetype": "text/x-python",
   "name": "python",
   "nbconvert_exporter": "python",
   "pygments_lexer": "ipython3",
   "version": "3.9.7"
  }
 },
 "nbformat": 4,
 "nbformat_minor": 5
}
